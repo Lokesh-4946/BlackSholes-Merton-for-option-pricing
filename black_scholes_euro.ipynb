{
  "nbformat": 4,
  "nbformat_minor": 0,
  "metadata": {
    "colab": {
      "provenance": []
    },
    "kernelspec": {
      "name": "python3",
      "display_name": "Python 3"
    },
    "language_info": {
      "name": "python"
    }
  },
  "cells": [
    {
      "cell_type": "code",
      "execution_count": 1,
      "metadata": {
        "id": "CwcESbn3DL8a"
      },
      "outputs": [],
      "source": [
        "# make sure you have downloaded these libraries, with the \"pip install\" command\n",
        "from math import log, sqrt, exp\n",
        "from scipy.stats import norm\n",
        "from datetime import datetime, date\n",
        "import numpy as np\n",
        "import pandas as pd\n",
        "import pandas_datareader.data as web\n",
        "import yfinance as yf\n",
        "\n"
      ]
    },
    {
      "cell_type": "code",
      "source": [
        "\n",
        "def d1(S, K, T, r, sigma):\n",
        "    return (log(S / K) + (r + sigma ** 2 / 2.0) * T) / (sigma * sqrt(T))\n",
        "\n",
        "def d2(S, K, T, r, sigma):\n",
        "    return d1(S, K, T, r, sigma) - sigma * sqrt(T)\n",
        "\n",
        "def bs_call(S, K, T, r, sigma):\n",
        "    # Do not take into account this line break which is related to my auto-formatter\n",
        "    return S * norm.cdf(d1(S, K, T, r, sigma)) - K * exp(-r * T) * norm.cdf(\n",
        "        d2(S, K, T, r, sigma)\n",
        "    )\n",
        "\n",
        "\n",
        "def bs_put(S, K, T, r, sigma):\n",
        "    return K * exp(-r * T) - S + bs_call(S, K, T, r, sigma)\n"
      ],
      "metadata": {
        "id": "tUOxOfYcDYvA"
      },
      "execution_count": 4,
      "outputs": []
    },
    {
      "cell_type": "code",
      "source": [
        "stock = str(input(\"select the stock you want: \"))\n",
        "current_price = round(yf.download(stock)[\"Adj Close\"].iloc[-1], 2)\n",
        "print(\"The current price of\", stock, \" is: \", current_price)\n",
        "choice = input(\"Wanna price a call or a put ? (c/p): \")\n",
        "expiry = str(input(\"select the expiry date (format mm-dd-YYYY): \"))\n",
        "strike_price = int(input(\"select the strike price: \"))\n",
        "today = datetime.now()\n",
        "one_year_ago = today.replace(year=today.year - 1)\n",
        "df = yf.download(stock, one_year_ago, today)\n",
        "df = df.sort_values(by=\"Date\")\n",
        "df = df.dropna()\n",
        "df = df.assign(close_day_before=df.Close.shift(1))\n",
        "df[\"returns\"] = (df.Close - df.close_day_before) / df.close_day_before\n",
        "\n",
        "# volatility\n",
        "sigma = np.sqrt(252) * df[\"returns\"].std()\n",
        "\n",
        "# Treasury Yield 10 Years US as risk-free interest rate\n",
        "ty10y = (yf.download(\"^TNX\")[\"Close\"].iloc[-1]) / 100\n",
        "last_close = df[\"Close\"].iloc[-1]\n",
        "# time expiration in % of year\n",
        "t = (datetime.strptime(expiry, \"%m-%d-%Y\") - datetime.utcnow()).days / 365\n",
        "\n",
        "if choice == \"c\":\n",
        "    print(\"The Call Price is: \", bs_call(last_close, strike_price, t, ty10y, sigma))\n",
        "\n",
        "\n",
        "if choice == \"p\":\n",
        "    print(\"The Put Price is: \", bs_put(last_close, strike_price, t, ty10y, sigma))"
      ],
      "metadata": {
        "colab": {
          "base_uri": "https://localhost:8080/"
        },
        "id": "ar83tiOjDzC1",
        "outputId": "170c25b2-81fb-45f0-a1f4-9e6cde19de30"
      },
      "execution_count": 10,
      "outputs": [
        {
          "name": "stdout",
          "output_type": "stream",
          "text": [
            "select the stock you want: amzn\n"
          ]
        },
        {
          "output_type": "stream",
          "name": "stderr",
          "text": [
            "\r[*********************100%%**********************]  1 of 1 completed\n"
          ]
        },
        {
          "name": "stdout",
          "output_type": "stream",
          "text": [
            "The current price of amzn  is:  180.75\n",
            "Wanna price a call or a put ? (c/p): p\n",
            "select the expiry date (format mm-dd-YYYY): 05-30-2024\n",
            "select the strike price: 178\n"
          ]
        },
        {
          "output_type": "stream",
          "name": "stderr",
          "text": [
            "[*********************100%%**********************]  1 of 1 completed\n",
            "[*********************100%%**********************]  1 of 1 completed"
          ]
        },
        {
          "output_type": "stream",
          "name": "stdout",
          "text": [
            "The Put Price is:  0.7539289735881027\n"
          ]
        },
        {
          "output_type": "stream",
          "name": "stderr",
          "text": [
            "\n"
          ]
        }
      ]
    }
  ]
}